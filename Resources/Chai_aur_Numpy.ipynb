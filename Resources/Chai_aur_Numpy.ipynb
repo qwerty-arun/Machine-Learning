{
  "nbformat": 4,
  "nbformat_minor": 0,
  "metadata": {
    "colab": {
      "provenance": [],
      "collapsed_sections": [
        "bO5A_ybTQV9n",
        "GBwSBySpT496",
        "iKghVvf6Ul5W",
        "4Zd7e38BXW4K",
        "tv1DpKEFZEbj"
      ]
    },
    "kernelspec": {
      "name": "python3",
      "display_name": "Python 3"
    },
    "language_info": {
      "name": "python"
    }
  },
  "cells": [
    {
      "cell_type": "markdown",
      "source": [
        "# Phase-1: Numpy array and basics"
      ],
      "metadata": {
        "id": "bO5A_ybTQV9n"
      }
    },
    {
      "cell_type": "code",
      "execution_count": 2,
      "metadata": {
        "id": "l5XCUmXgPCbo"
      },
      "outputs": [],
      "source": [
        "import numpy as np"
      ]
    },
    {
      "cell_type": "markdown",
      "source": [
        "### Creating array from list"
      ],
      "metadata": {
        "id": "N6qnbNIWQ0EK"
      }
    },
    {
      "cell_type": "code",
      "source": [
        "array_1d = np.array([1,2,3,4,5])\n",
        "print(\"1D array:\", array_1d)\n",
        "\n",
        "array_2d = np.array([[1,2,3], [4,5,6]])\n",
        "print(\"2D array:\", array_2d)"
      ],
      "metadata": {
        "colab": {
          "base_uri": "https://localhost:8080/"
        },
        "id": "EU3kkqS6QqIU",
        "outputId": "ca965ec5-1c41-4720-8907-bdefbbe52169"
      },
      "execution_count": 3,
      "outputs": [
        {
          "output_type": "stream",
          "name": "stdout",
          "text": [
            "1D array: [1 2 3 4 5]\n",
            "2D array: [[1 2 3]\n",
            " [4 5 6]]\n"
          ]
        }
      ]
    },
    {
      "cell_type": "markdown",
      "source": [
        "### List vs numpy array"
      ],
      "metadata": {
        "id": "BfYiMVEtRSxA"
      }
    },
    {
      "cell_type": "code",
      "source": [
        "py_list = [1,2,3]\n",
        "print(\"Python list multiplication:\", py_list * 2)\n",
        "\n",
        "np_array = np.array([1,2,3]) # element wise multiplication\n",
        "print(\"Python array multiplication:\", np_array*2)\n",
        "\n",
        "import time\n",
        "start = time.time()\n",
        "py_list = [i*2 for i in range(1000000)]\n",
        "print(\"\\n List operation time: \", time.time()-start)\n",
        "\n",
        "start = time.time()\n",
        "np_array = np.arange(1000000) * 2\n",
        "print(\"\\n Numpy operation time: \", time.time()-start)"
      ],
      "metadata": {
        "colab": {
          "base_uri": "https://localhost:8080/"
        },
        "id": "4jd6HBXgRPpA",
        "outputId": "f7bf359c-105c-4551-aab7-6a2bfa1ade84"
      },
      "execution_count": 4,
      "outputs": [
        {
          "output_type": "stream",
          "name": "stdout",
          "text": [
            "Python list multiplication: [1, 2, 3, 1, 2, 3]\n",
            "Python array multiplication: [2 4 6]\n",
            "\n",
            " List operation time:  0.0702505111694336\n",
            "\n",
            " Numpy operation time:  0.00706791877746582\n"
          ]
        }
      ]
    },
    {
      "cell_type": "markdown",
      "source": [
        "### Creating array from scratch"
      ],
      "metadata": {
        "id": "wn8OmOBISyDy"
      }
    },
    {
      "cell_type": "code",
      "source": [
        "zeros = np.zeros((3,4))\n",
        "print(\"Zeros array: \\n\",zeros)\n",
        "\n",
        "ones = np.ones((2,2))\n",
        "print(\"\\nOnes array: \\n\", ones)\n",
        "\n",
        "full = np.full((2,2),7)\n",
        "print(\"\\nFull array: \\n\", full)\n",
        "\n",
        "random = np.random.random((2,3))\n",
        "print(\"\\nRandom array: \\n\", random)\n",
        "\n",
        "sequence = np.arange(0, 10, 2)\n",
        "print(\"\\nSequence array: \\n\", sequence)"
      ],
      "metadata": {
        "colab": {
          "base_uri": "https://localhost:8080/"
        },
        "id": "lNSpqyk-S0WE",
        "outputId": "b3a07d5c-59c3-49c3-a6ed-6ff41347e131"
      },
      "execution_count": 5,
      "outputs": [
        {
          "output_type": "stream",
          "name": "stdout",
          "text": [
            "Zeros array: \n",
            " [[0. 0. 0. 0.]\n",
            " [0. 0. 0. 0.]\n",
            " [0. 0. 0. 0.]]\n",
            "\n",
            "Ones array: \n",
            " [[1. 1.]\n",
            " [1. 1.]]\n",
            "\n",
            "Full array: \n",
            " [[7 7]\n",
            " [7 7]]\n",
            "\n",
            "Random array: \n",
            " [[6.40183456e-01 6.53281381e-01 4.64692639e-01]\n",
            " [4.75508663e-01 8.40565752e-01 7.78175532e-04]]\n",
            "\n",
            "Sequence array: \n",
            " [0 2 4 6 8]\n"
          ]
        }
      ]
    },
    {
      "cell_type": "markdown",
      "source": [
        "### Vector, Matrix and Tensor"
      ],
      "metadata": {
        "id": "GBwSBySpT496"
      }
    },
    {
      "cell_type": "code",
      "source": [
        "vector = np.array([1,2,3])\n",
        "print(\"Vector: \\n\", vector)\n",
        "\n",
        "matrix = np.array([[1,2,3],\n",
        "                   [4,5,6]])\n",
        "print(\"\\nMatrix: \\n\", matrix)\n",
        "\n",
        "tensor = np.array([[[1,2], [3,4]],\n",
        "                   [[5,6], [7,8]],\n",
        "                   [[9,10], [11,12]]])\n",
        "print(\"\\nTensor: \\n\", tensor)"
      ],
      "metadata": {
        "id": "SJEFH8VoT7is",
        "colab": {
          "base_uri": "https://localhost:8080/"
        },
        "outputId": "8e27ec0c-d6b5-4937-9be2-35317fd4b4e5"
      },
      "execution_count": 6,
      "outputs": [
        {
          "output_type": "stream",
          "name": "stdout",
          "text": [
            "Vector: \n",
            " [1 2 3]\n",
            "\n",
            "Matrix: \n",
            " [[1 2 3]\n",
            " [4 5 6]]\n",
            "\n",
            "Tensor: \n",
            " [[[ 1  2]\n",
            "  [ 3  4]]\n",
            "\n",
            " [[ 5  6]\n",
            "  [ 7  8]]\n",
            "\n",
            " [[ 9 10]\n",
            "  [11 12]]]\n"
          ]
        }
      ]
    },
    {
      "cell_type": "markdown",
      "source": [
        "### Array Properties"
      ],
      "metadata": {
        "id": "iKghVvf6Ul5W"
      }
    },
    {
      "cell_type": "code",
      "source": [
        "arr = np.array([[1,2,3],\n",
        "                [4,5,6]])\n",
        "# Change any one value in the array to a float or a string and try printing\n",
        "print(\"Shape \", arr.shape)\n",
        "print(\"Dimenstion \", arr.ndim)\n",
        "print(\"Size \", arr.size)\n",
        "print(\"Dtype \", arr.dtype)"
      ],
      "metadata": {
        "id": "GIiFQu9pUlPV",
        "colab": {
          "base_uri": "https://localhost:8080/"
        },
        "outputId": "8d8c52fb-fc87-446d-d2b8-057119febbbc"
      },
      "execution_count": 7,
      "outputs": [
        {
          "output_type": "stream",
          "name": "stdout",
          "text": [
            "Shape  (2, 3)\n",
            "Dimenstion  2\n",
            "Size  6\n",
            "Dtype  int64\n"
          ]
        }
      ]
    },
    {
      "cell_type": "markdown",
      "source": [
        "### Array Reshaping"
      ],
      "metadata": {
        "id": "4Zd7e38BXW4K"
      }
    },
    {
      "cell_type": "code",
      "source": [
        "arr = np.arange(12)\n",
        "print(\"Original array \", arr)\n",
        "\n",
        "reshaped = arr.reshape((3,4))\n",
        "print(\"\\nReshaped array \", reshaped)\n",
        "\n",
        "flattened = reshaped.flatten()\n",
        "print(\"\\nFlattend array \", flattened)\n",
        "\n",
        "# ravel returns view instead of copy\n",
        "raveled = reshaped.ravel()\n",
        "print(\"\\nRavel array \", raveled)\n",
        "\n",
        "# Transpose\n",
        "transpose = reshaped.T\n",
        "print(\"\\nTransposed array \", transpose)"
      ],
      "metadata": {
        "colab": {
          "base_uri": "https://localhost:8080/"
        },
        "id": "ns0VwezjXOO6",
        "outputId": "283cbf65-1124-4f8f-ff86-37a17b574614"
      },
      "execution_count": 8,
      "outputs": [
        {
          "output_type": "stream",
          "name": "stdout",
          "text": [
            "Original array  [ 0  1  2  3  4  5  6  7  8  9 10 11]\n",
            "\n",
            "Reshaped array  [[ 0  1  2  3]\n",
            " [ 4  5  6  7]\n",
            " [ 8  9 10 11]]\n",
            "\n",
            "Flattend array  [ 0  1  2  3  4  5  6  7  8  9 10 11]\n",
            "\n",
            "Ravel array  [ 0  1  2  3  4  5  6  7  8  9 10 11]\n",
            "\n",
            "Transposed array  [[ 0  4  8]\n",
            " [ 1  5  9]\n",
            " [ 2  6 10]\n",
            " [ 3  7 11]]\n"
          ]
        }
      ]
    },
    {
      "cell_type": "markdown",
      "source": [
        "# Phase-2: Operations on Numpy Array"
      ],
      "metadata": {
        "id": "tv1DpKEFZEbj"
      }
    },
    {
      "cell_type": "code",
      "source": [
        "arr = np.arange(1,11)\n",
        "print(\"Original Array: \",arr)\n",
        "print(\"Basic Slicing: \", arr[2:7])\n",
        "print(\"With Step: \",arr[1:8:2])\n",
        "print(\"Negative indexing: \", arr[-3])"
      ],
      "metadata": {
        "colab": {
          "base_uri": "https://localhost:8080/"
        },
        "id": "p_YLgj6iZMgo",
        "outputId": "e2ba7be2-54a2-4e2b-880e-2f6737413aaf"
      },
      "execution_count": 9,
      "outputs": [
        {
          "output_type": "stream",
          "name": "stdout",
          "text": [
            "Original Array:  [ 1  2  3  4  5  6  7  8  9 10]\n",
            "Basic Slicing:  [3 4 5 6 7]\n",
            "With Step:  [2 4 6 8]\n",
            "Negative indexing:  8\n"
          ]
        }
      ]
    },
    {
      "cell_type": "code",
      "source": [
        "arr_2d = np.array([[1,2,3],\n",
        "                   [4,5,6],\n",
        "                   [7,8,9]])\n",
        "print(\"Specific Element: \", arr_2d[1,2])\n",
        "print(\"Entire Row: \", arr_2d[1])\n",
        "print(\"Entire Column: \", arr_2d[:, 1])"
      ],
      "metadata": {
        "colab": {
          "base_uri": "https://localhost:8080/"
        },
        "id": "otBgeqzWcSA2",
        "outputId": "9b41a541-4d0d-4c48-9540-0773d9d8ae23"
      },
      "execution_count": 10,
      "outputs": [
        {
          "output_type": "stream",
          "name": "stdout",
          "text": [
            "Specific Element:  6\n",
            "Entire Row:  [4 5 6]\n",
            "Entire Column:  [2 5 8]\n"
          ]
        }
      ]
    },
    {
      "cell_type": "markdown",
      "source": [
        "### Sorting"
      ],
      "metadata": {
        "id": "qTLnkEJoczh6"
      }
    },
    {
      "cell_type": "code",
      "source": [
        "unsorted = np.array([3,1,4,1,5,9,2,6])\n",
        "print(\"Sorted Array: \", np.sort(unsorted))\n",
        "\n",
        "arr_2d_unsorted = np.array([[3,4], [1,8], [14, 9]])\n",
        "print(\"\\nSorted 2D array by column\", np.sort(arr_2d_unsorted, axis=0))\n",
        "print(\"\\nSorted 2D array by row\", np.sort(arr_2d_unsorted, axis=1))"
      ],
      "metadata": {
        "colab": {
          "base_uri": "https://localhost:8080/"
        },
        "id": "GrcCXI2XcyH3",
        "outputId": "2d30e596-9e1e-4f5f-bfe2-32129d7e9501"
      },
      "execution_count": 11,
      "outputs": [
        {
          "output_type": "stream",
          "name": "stdout",
          "text": [
            "Sorted Array:  [1 1 2 3 4 5 6 9]\n",
            "\n",
            "Sorted 2D array by column [[ 1  4]\n",
            " [ 3  8]\n",
            " [14  9]]\n",
            "\n",
            "Sorted 2D array by row [[ 3  4]\n",
            " [ 1  8]\n",
            " [ 9 14]]\n"
          ]
        }
      ]
    },
    {
      "cell_type": "markdown",
      "source": [
        "## Filtering"
      ],
      "metadata": {
        "id": "UsZZJDSLeR6X"
      }
    },
    {
      "cell_type": "code",
      "source": [
        "numbers = np.array([1,2,3,4,5,6,7,8,9,10])\n",
        "even_number = numbers[numbers % 2 == 0]\n",
        "print(\"Even no.s\", even_number)"
      ],
      "metadata": {
        "colab": {
          "base_uri": "https://localhost:8080/"
        },
        "id": "B9CsPCSgeAaG",
        "outputId": "ec8d8761-820d-4064-dd56-3b708df67933"
      },
      "execution_count": 12,
      "outputs": [
        {
          "output_type": "stream",
          "name": "stdout",
          "text": [
            "Even no.s [ 2  4  6  8 10]\n"
          ]
        }
      ]
    },
    {
      "cell_type": "markdown",
      "source": [
        "## Filter with mask"
      ],
      "metadata": {
        "id": "FKSs2iNeeaJX"
      }
    },
    {
      "cell_type": "code",
      "source": [
        "mask = numbers > 5\n",
        "print(\"Number greater than 5: \",numbers[mask])"
      ],
      "metadata": {
        "colab": {
          "base_uri": "https://localhost:8080/"
        },
        "id": "ujSLGSs1eZTC",
        "outputId": "1f446484-d121-4d25-b8cc-09492e578187"
      },
      "execution_count": 13,
      "outputs": [
        {
          "output_type": "stream",
          "name": "stdout",
          "text": [
            "Number greater than 5:  [ 6  7  8  9 10]\n"
          ]
        }
      ]
    },
    {
      "cell_type": "markdown",
      "source": [
        "## Fancy Indexing vs np.where()"
      ],
      "metadata": {
        "id": "UNOiMXtUe16_"
      }
    },
    {
      "cell_type": "code",
      "source": [
        "indices = [0, 2, 4]\n",
        "print(numbers[indices])\n",
        "\n",
        "where_result = np.where(numbers > 5)\n",
        "print(where_result)\n",
        "print(\"Np where: \", numbers[where_result])"
      ],
      "metadata": {
        "colab": {
          "base_uri": "https://localhost:8080/"
        },
        "id": "xVrtwVf0e5pQ",
        "outputId": "5a8f9816-9014-4494-fc11-45af1ecae2d0"
      },
      "execution_count": 14,
      "outputs": [
        {
          "output_type": "stream",
          "name": "stdout",
          "text": [
            "[1 3 5]\n",
            "(array([5, 6, 7, 8, 9]),)\n",
            "Np where:  [ 6  7  8  9 10]\n"
          ]
        }
      ]
    },
    {
      "cell_type": "code",
      "source": [
        "condition_array = np.where(numbers > 5, numbers * 3, numbers)\n",
        "print(condition_array)\n",
        "\n",
        "another_condition = np.where(numbers > 5, \"true\", \"false\")\n",
        "print(another_condition)"
      ],
      "metadata": {
        "colab": {
          "base_uri": "https://localhost:8080/"
        },
        "id": "PysI7R-uf5ZX",
        "outputId": "893e7ab9-6592-4bf1-a2ec-8bdb3b729380"
      },
      "execution_count": 15,
      "outputs": [
        {
          "output_type": "stream",
          "name": "stdout",
          "text": [
            "[ 1  2  3  4  5 18 21 24 27 30]\n",
            "['false' 'false' 'false' 'false' 'false' 'true' 'true' 'true' 'true'\n",
            " 'true']\n"
          ]
        }
      ]
    },
    {
      "cell_type": "markdown",
      "source": [
        "#### Explanation for condition array\n",
        "```\n",
        "if(numbers > 5){\n",
        "  numbers * 3\n",
        "} else {\n",
        "  numbers\n",
        "}\n",
        "```\n",
        "\n"
      ],
      "metadata": {
        "id": "JiZ9hDPPg12D"
      }
    },
    {
      "cell_type": "markdown",
      "source": [
        "### Adding and Removing Data"
      ],
      "metadata": {
        "id": "Ua-7l4LAgpFi"
      }
    },
    {
      "cell_type": "code",
      "source": [
        "arr1 = np.array([1,2,3])\n",
        "arr2 = np.array([4,5,6])\n",
        "combined = arr1 + arr2\n",
        "print(\"Addition of arrays: \", combined)\n",
        "combined = np.concatenate((arr1, arr2))\n",
        "print(\"Addition of arrays: \", combined)"
      ],
      "metadata": {
        "colab": {
          "base_uri": "https://localhost:8080/"
        },
        "id": "Ew3wWhqjiZ0b",
        "outputId": "0cd15459-b5f4-4e42-a019-6cfcb1f5baeb"
      },
      "execution_count": 16,
      "outputs": [
        {
          "output_type": "stream",
          "name": "stdout",
          "text": [
            "Addition of arrays:  [5 7 9]\n",
            "Addition of arrays:  [1 2 3 4 5 6]\n"
          ]
        }
      ]
    },
    {
      "cell_type": "markdown",
      "source": [
        "### Array Compatibility"
      ],
      "metadata": {
        "id": "GKmzjefWi_XE"
      }
    },
    {
      "cell_type": "code",
      "source": [
        "a = np.array([1,2,3])\n",
        "b = np.array([4,5,6,1])\n",
        "c = np.array([7,8,9])\n",
        "\n",
        "print(\"Compatibility shapes\", a.shape == b.shape)\n",
        "print(\"Compatibility shapes\", a.shape == c.shape)"
      ],
      "metadata": {
        "id": "M4DV25DUiofJ",
        "colab": {
          "base_uri": "https://localhost:8080/"
        },
        "outputId": "f7d9d881-885b-4cf5-b456-d62d2d0d99ca"
      },
      "execution_count": 17,
      "outputs": [
        {
          "output_type": "stream",
          "name": "stdout",
          "text": [
            "Compatibility shapes False\n",
            "Compatibility shapes True\n"
          ]
        }
      ]
    },
    {
      "cell_type": "code",
      "source": [
        "original = np.array([[1,2], [3,4]])\n",
        "new_row = np.array([[5,6]])\n",
        "\n",
        "with_new_row = np.vstack((original, new_row))\n",
        "print(\"Original Array: \\n\", original)\n",
        "print(\"New Row added: \\n\", with_new_row)\n",
        "\n",
        "new_col = np.array([[7], [8]])\n",
        "with_new_col = np.hstack((original, new_col))\n",
        "print(\"New Col added: \\n\", with_new_col)"
      ],
      "metadata": {
        "colab": {
          "base_uri": "https://localhost:8080/"
        },
        "id": "DBcB1nAmkPyA",
        "outputId": "8482530d-1934-41da-a288-3e472abe70ab"
      },
      "execution_count": 18,
      "outputs": [
        {
          "output_type": "stream",
          "name": "stdout",
          "text": [
            "Original Array: \n",
            " [[1 2]\n",
            " [3 4]]\n",
            "New Row added: \n",
            " [[1 2]\n",
            " [3 4]\n",
            " [5 6]]\n",
            "New Col added: \n",
            " [[1 2 7]\n",
            " [3 4 8]]\n"
          ]
        }
      ]
    },
    {
      "cell_type": "markdown",
      "source": [
        "### Deleting"
      ],
      "metadata": {
        "id": "IVwLLv0vlt7n"
      }
    },
    {
      "cell_type": "code",
      "source": [
        "arr = np.array([1,2,3,4,5])\n",
        "deleted = np.delete(arr,2)\n",
        "print(\"Array afterr deletion: \", deleted)"
      ],
      "metadata": {
        "colab": {
          "base_uri": "https://localhost:8080/"
        },
        "id": "i6qk_hlmlwH7",
        "outputId": "64340cee-bf6f-4775-b443-864c5fa9859c"
      },
      "execution_count": 19,
      "outputs": [
        {
          "output_type": "stream",
          "name": "stdout",
          "text": [
            "Array afterr deletion:  [1 2 4 5]\n"
          ]
        }
      ]
    },
    {
      "cell_type": "markdown",
      "source": [
        "# Phase-3: Practice with Real World Data"
      ],
      "metadata": {
        "id": "uiLzPp4qmcOV"
      }
    },
    {
      "cell_type": "markdown",
      "source": [
        "#### Advance Operation with Business Examples"
      ],
      "metadata": {
        "id": "EfSJ5Y5bl-jV"
      }
    },
    {
      "cell_type": "code",
      "source": [
        "import matplotlib.pyplot as plt"
      ],
      "metadata": {
        "id": "mlvtczNNofzQ"
      },
      "execution_count": 20,
      "outputs": []
    },
    {
      "cell_type": "code",
      "source": [
        "# Data structure: [restaurant_id, 2021, 2022, 2023, 2024]\n",
        "sales_data = np.array([\n",
        "    [1, 150000, 180000, 220000, 250000],  # Paradise Biryani\n",
        "    [2, 120000, 140000, 160000, 190000],  # Beijing Bites\n",
        "    [3, 200000, 230000, 260000, 300000],  # Pizza Hub\n",
        "    [4, 180000, 210000, 240000, 270000],  # Burger Point\n",
        "    [5, 160000, 185000, 205000, 230000]   # Chai Point\n",
        "])\n",
        "\n",
        "print(\"==== Zomato sales analysis ==== \")\n",
        "print(\"\\n Sales data shape\", sales_data.shape)\n",
        "print(\"\\n Sample data for 1st 3 restaurant: \\n \", sales_data[:3])\n",
        "print(\"\\n Sample data for 1st 3 restaurant: \\n \", sales_data[:, 1:])"
      ],
      "metadata": {
        "colab": {
          "base_uri": "https://localhost:8080/"
        },
        "id": "OZRw-l9ooM7o",
        "outputId": "e5300f35-3f83-4f8f-d414-b609f42a89cf"
      },
      "execution_count": 21,
      "outputs": [
        {
          "output_type": "stream",
          "name": "stdout",
          "text": [
            "==== Zomato sales analysis ==== \n",
            "\n",
            " Sales data shape (5, 5)\n",
            "\n",
            " Sample data for 1st 3 restaurant: \n",
            "  [[     1 150000 180000 220000 250000]\n",
            " [     2 120000 140000 160000 190000]\n",
            " [     3 200000 230000 260000 300000]]\n",
            "\n",
            " Sample data for 1st 3 restaurant: \n",
            "  [[150000 180000 220000 250000]\n",
            " [120000 140000 160000 190000]\n",
            " [200000 230000 260000 300000]\n",
            " [180000 210000 240000 270000]\n",
            " [160000 185000 205000 230000]]\n"
          ]
        }
      ]
    },
    {
      "cell_type": "code",
      "source": [
        "# Total sales per year\n",
        "print(\"Along with resto no.s \",np.sum(sales_data, axis = 0))\n",
        "yearly_total = np.sum(sales_data[:, 1:], axis = 0)\n",
        "print(\"Remove: \", yearly_total)\n",
        "# Better way\n",
        "print(\"Clean way: \", np.sum(sales_data[:, 1:], axis = 0))\n",
        "print(\"Total sales from 2021 to 2024:\", np.sum(yearly_total),\"/-\")"
      ],
      "metadata": {
        "colab": {
          "base_uri": "https://localhost:8080/"
        },
        "id": "JoN7th-cqBbB",
        "outputId": "90e25bd9-73f5-4363-e7eb-eb83de3ace66"
      },
      "execution_count": 22,
      "outputs": [
        {
          "output_type": "stream",
          "name": "stdout",
          "text": [
            "Along with resto no.s  [     15  810000  945000 1085000 1240000]\n",
            "Remove:  [ 810000  945000 1085000 1240000]\n",
            "Clean way:  [ 810000  945000 1085000 1240000]\n",
            "Total sales from 2021 to 2024: 4080000 /-\n"
          ]
        }
      ]
    },
    {
      "cell_type": "code",
      "source": [
        "# Minimum Sales per resto\n",
        "min_sales = np.min(sales_data[:, 1:], axis=1) # axis = 1 means row wise and axis = 0 means cols\n",
        "print(\"Minimum Sales: \", min_sales)\n",
        "\n",
        "# Maximum Sales per year\n",
        "max_sales = np.max(sales_data[:, 1:], axis=0)\n",
        "print(\"Maximum Sales: \", max_sales)\n",
        "\n",
        "# Average sales per restaurant\n",
        "avg_sales = np.mean(sales_data[:, 1:], axis = 1)\n",
        "print(\"Avg sales per restaurant: \", avg_sales)"
      ],
      "metadata": {
        "colab": {
          "base_uri": "https://localhost:8080/"
        },
        "id": "yP29Z0Xhqsf0",
        "outputId": "035a6fe3-1c75-4a9a-b367-4ff0eedaa953"
      },
      "execution_count": 23,
      "outputs": [
        {
          "output_type": "stream",
          "name": "stdout",
          "text": [
            "Minimum Sales:  [150000 120000 200000 180000 160000]\n",
            "Maximum Sales:  [200000 230000 260000 300000]\n",
            "Avg sales per restaurant:  [200000. 152500. 247500. 225000. 195000.]\n"
          ]
        }
      ]
    },
    {
      "cell_type": "code",
      "source": [
        "cumulative_sum = np.cumsum(sales_data[:, 1:], axis = 1)\n",
        "print(\"Cumulative Sales: \", cumulative_sum)\n",
        "\n",
        "plt.figure(figsize=(8,6))\n",
        "plt.plot(np.mean(cumulative_sum, axis = 0))\n",
        "plt.title(\"Average Cumulative Sales across all resto \")\n",
        "plt.xlabel(\"Years\")\n",
        "plt.ylabel(\"Sales\")\n",
        "plt.grid(True)\n",
        "plt.show()"
      ],
      "metadata": {
        "colab": {
          "base_uri": "https://localhost:8080/",
          "height": 651
        },
        "id": "mxHOHkW3-7S3",
        "outputId": "f56dabf2-b7f4-46fb-d235-472b9deef7a8"
      },
      "execution_count": 28,
      "outputs": [
        {
          "output_type": "stream",
          "name": "stdout",
          "text": [
            "Cumulative Sales:  [[150000 330000 550000 800000]\n",
            " [120000 260000 420000 610000]\n",
            " [200000 430000 690000 990000]\n",
            " [180000 390000 630000 900000]\n",
            " [160000 345000 550000 780000]]\n"
          ]
        },
        {
          "output_type": "display_data",
          "data": {
            "text/plain": [
              "<Figure size 800x600 with 1 Axes>"
            ],
            "image/png": "[encoded data removed]"
          },
          "metadata": {}
        }
      ]
    },
    {
      "cell_type": "code",
      "source": [
        "vec1 = np.array([1,2,3,4,5])\n",
        "vec2 = np.array([6,7,8,9,10])\n",
        "\n",
        "print(\"Vector addition: \", vec1 + vec2)\n",
        "print(\"\\nMultiplication vector: \", vec1 * vec2)\n",
        "print(\"\\nDot Product: \", np.dot(vec1, vec2))\n",
        "# What is pinecone?\n",
        "angle = np.arccos(np.dot(vec1, vec2) / (np.linalg.norm(vec1) * np.linalg.norm(vec2)))\n",
        "\n",
        "print(\"\\nAngle between the vectors: \", angle)"
      ],
      "metadata": {
        "colab": {
          "base_uri": "https://localhost:8080/"
        },
        "id": "8efZeiLOAVEW",
        "outputId": "85717130-3333-46f9-fa90-e9ca3af7a453"
      },
      "execution_count": 36,
      "outputs": [
        {
          "output_type": "stream",
          "name": "stdout",
          "text": [
            "Vector addition:  [ 7  9 11 13 15]\n",
            "\n",
            "Multiplication vector:  [ 6 14 24 36 50]\n",
            "\n",
            "Dot Product:  130\n",
            "\n",
            "Angle between the vectors:  0.26554161733900966\n"
          ]
        }
      ]
    },
    {
      "cell_type": "code",
      "source": [
        "# Vectorized operations\n",
        "resto_types = np.array(['biriyani', 'chinese', 'pizza', 'burger', 'cafe'])\n",
        "vectorized_upper = np.vectorize(str.upper)\n",
        "print(\"Vectorized Upper\", vectorized_upper(resto_types))"
      ],
      "metadata": {
        "colab": {
          "base_uri": "https://localhost:8080/"
        },
        "id": "CCXiXjtdDgJ8",
        "outputId": "8d5d1cf1-910d-4631-ad84-35c966b4fcd2"
      },
      "execution_count": 41,
      "outputs": [
        {
          "output_type": "stream",
          "name": "stdout",
          "text": [
            "Vectorized Upper ['BIRIYANI' 'CHINESE' 'PIZZA' 'BURGER' 'CAFE']\n"
          ]
        }
      ]
    },
    {
      "cell_type": "code",
      "source": [
        "# Broadcast\n",
        "monthly_avg = sales_data[:, 1:] / 12\n",
        "print(monthly_avg)"
      ],
      "metadata": {
        "colab": {
          "base_uri": "https://localhost:8080/"
        },
        "id": "qlGsNpBgEE3r",
        "outputId": "56f87204-1dba-4256-8260-350b78e74fec"
      },
      "execution_count": 40,
      "outputs": [
        {
          "output_type": "stream",
          "name": "stdout",
          "text": [
            "[[12500.         15000.         18333.33333333 20833.33333333]\n",
            " [10000.         11666.66666667 13333.33333333 15833.33333333]\n",
            " [16666.66666667 19166.66666667 21666.66666667 25000.        ]\n",
            " [15000.         17500.         20000.         22500.        ]\n",
            " [13333.33333333 15416.66666667 17083.33333333 19166.66666667]]\n"
          ]
        }
      ]
    },
    {
      "cell_type": "markdown",
      "source": [
        "# Phase-4: Storing image in Matrix and converting image in dark mode"
      ],
      "metadata": {
        "id": "B7eAg1ldElFX"
      }
    },
    {
      "cell_type": "code",
      "source": [
        "array1 = np.array([[1,2,3],[4,5,6]])\n",
        "array2 = np.random.rand(3,3)\n",
        "array3 = np.zeros((4,4))"
      ],
      "metadata": {
        "id": "EsSD5tTqEtRx"
      },
      "execution_count": 44,
      "outputs": []
    },
    {
      "cell_type": "code",
      "source": [
        "np.save('array1.npy', array1)\n",
        "np.save('array2.npy', array2)\n",
        "np.save('array3.npy', array3)"
      ],
      "metadata": {
        "id": "18B54ICAGZrc"
      },
      "execution_count": 45,
      "outputs": []
    },
    {
      "cell_type": "code",
      "source": [
        "loaded_array1 = np.load('array1.npy')\n",
        "print(loaded_array1)"
      ],
      "metadata": {
        "colab": {
          "base_uri": "https://localhost:8080/"
        },
        "id": "hGiuL7DEHEPB",
        "outputId": "c8470297-9362-4693-bb59-2a453a8c1f85"
      },
      "execution_count": 47,
      "outputs": [
        {
          "output_type": "stream",
          "name": "stdout",
          "text": [
            "[[1 2 3]\n",
            " [4 5 6]]\n"
          ]
        }
      ]
    },
    {
      "cell_type": "code",
      "source": [
        "import requests\n",
        "from PIL import Image\n",
        "from io import BytesIO\n",
        "import matplotlib.pyplot as plt\n",
        "import numpy as np\n",
        "\n",
        "try:\n",
        "    # Load image from URL\n",
        "    url = \"https://encrypted-tbn0.gstatic.com/images?q=tbn:ANd9GcTvEfXHLIJLACY1DI30rAzDlbekLkgFXYm1DA&s\"\n",
        "    response = requests.get(url)\n",
        "    response.raise_for_status()\n",
        "\n",
        "    img = Image.open(BytesIO(response.content)).convert(\"RGB\")  # Ensure it's in RGB format\n",
        "\n",
        "    # Convert to NumPy array\n",
        "    img_array = np.array(img)\n",
        "\n",
        "    # Invert colors\n",
        "    dark_logo_array = 255 - img_array\n",
        "\n",
        "    # Convert back to Image\n",
        "    dark_logo = Image.fromarray(dark_logo_array)\n",
        "\n",
        "    # Display original\n",
        "    plt.figure(figsize=(10, 5))\n",
        "    plt.subplot(121)\n",
        "    plt.imshow(img)\n",
        "    plt.title(\"Numpy Logo\")\n",
        "    plt.grid(False)\n",
        "    plt.axis('off')\n",
        "\n",
        "    # Display inverted\n",
        "    plt.subplot(122)\n",
        "    plt.imshow(dark_logo)\n",
        "    plt.title(\"Numpy Dark Logo\")\n",
        "    plt.grid(False)\n",
        "    plt.axis('off')\n",
        "    plt.show()\n",
        "\n",
        "except requests.exceptions.RequestException as e:\n",
        "    print(\"Failed to load image:\", e)\n"
      ],
      "metadata": {
        "colab": {
          "base_uri": "https://localhost:8080/",
          "height": 411
        },
        "id": "wlDV4TPPMdmM",
        "outputId": "794910b9-2636-4925-80c8-f57d840f245c"
      },
      "execution_count": 52,
      "outputs": [
        {
          "output_type": "display_data",
          "data": {
            "text/plain": [
              "<Figure size 1000x500 with 2 Axes>"
            ],
            "image/png": "[encoded data removed]"
          },
          "metadata": {}
        }
      ]
    }
  ]
}